{
 "cells": [
  {
   "cell_type": "code",
   "execution_count": 17,
   "id": "9174b615",
   "metadata": {},
   "outputs": [
    {
     "name": "stdout",
     "output_type": "stream",
     "text": [
      "Rows: 7728394, Columns: 49\n"
     ]
    }
   ],
   "source": [
    "# Part 2 - SQL Queries (US Accidents)\n",
    "\n",
    "# Import necessary libraries\n",
    "import pandas as pd\n",
    "import sqlite3\n",
    "\n",
    "# Load previously cleaned dataset\n",
    "df = pd.read_csv(\"/Users/thomassimmons/us_accidents_cleaned.csv\")\n",
    "print(f\"Rows: {len(df)}, Columns: {df.shape[1]}\")"
   ]
  },
  {
   "cell_type": "code",
   "execution_count": 18,
   "id": "4b91bb42",
   "metadata": {},
   "outputs": [
    {
     "name": "stdout",
     "output_type": "stream",
     "text": [
      "Data successfully loaded into db\n"
     ]
    }
   ],
   "source": [
    "# Store data in SQLite\n",
    "# Connect to SQLite \n",
    "conn = sqlite3.connect(\"/Users/thomassimmons/us_accidents.db\")\n",
    "cursor = conn.cursor()\n",
    "\n",
    "# Save DataFrame to SQLite table\n",
    "df.to_sql('accidents', conn, if_exists='replace', index=False)\n",
    "print(\"Data successfully loaded into db\")"
   ]
  },
  {
   "cell_type": "code",
   "execution_count": null,
   "id": "0975f72c",
   "metadata": {},
   "outputs": [
    {
     "name": "stdout",
     "output_type": "stream",
     "text": [
      "   total_accidents\n",
      "0          7728394\n"
     ]
    }
   ],
   "source": [
    "# Run SQL Queries\n",
    "\n",
    "# 1 - total number of accidents\n",
    "query1 = \"\"\"\n",
    "SELECT COUNT(*) AS total_accidents\n",
    "FROM accidents;\n",
    "\"\"\"\n",
    "\n",
    "print(pd.read_sql_query(query1, conn))"
   ]
  },
  {
   "cell_type": "code",
   "execution_count": 8,
   "id": "c20de190",
   "metadata": {},
   "outputs": [
    {
     "name": "stdout",
     "output_type": "stream",
     "text": [
      "   Severity    count\n",
      "0         1    67366\n",
      "1         2  6156981\n",
      "2         3  1299337\n",
      "3         4   204710\n"
     ]
    }
   ],
   "source": [
    "# 2 - accidents by severity\n",
    "query2 = \"\"\"\n",
    "SELECT Severity, COUNT(*) AS count\n",
    "FROM Accidents\n",
    "GROUP BY Severity\n",
    "ORDER BY Severity;\n",
    "\"\"\"\n",
    "\n",
    "print(pd.read_sql_query(query2, conn))"
   ]
  },
  {
   "cell_type": "code",
   "execution_count": 11,
   "id": "080400be",
   "metadata": {},
   "outputs": [
    {
     "name": "stdout",
     "output_type": "stream",
     "text": [
      "          City  accident_count\n",
      "0        Miami          186917\n",
      "1      Houston          169609\n",
      "2  Los Angeles          156491\n",
      "3    Charlotte          138652\n",
      "4       Dallas          130939\n",
      "5      Orlando          109733\n",
      "6       Austin           97359\n",
      "7      Raleigh           86079\n",
      "8    Nashville           72930\n",
      "9  Baton Rouge           71588\n"
     ]
    }
   ],
   "source": [
    "# 3 - top 10 cities with the most accidents overall\n",
    "query3 = \"\"\"\n",
    "SELECT City, COUNT(*) AS accident_count\n",
    "FROM Accidents\n",
    "GROUP BY CITY\n",
    "ORDER BY accident_count DESC\n",
    "LIMIT 10;\n",
    "\"\"\"\n",
    "\n",
    "print(pd.read_sql_query(query3, conn))"
   ]
  },
  {
   "cell_type": "code",
   "execution_count": 13,
   "id": "8ee19bbc",
   "metadata": {},
   "outputs": [
    {
     "name": "stdout",
     "output_type": "stream",
     "text": [
      "   Severity  Average_Duration\n",
      "0         1             53.78\n",
      "1         2            485.44\n",
      "2         3             74.81\n",
      "3         4           1685.35\n"
     ]
    }
   ],
   "source": [
    "# 4 - average accident duration by severity\n",
    "\n",
    "query4 = \"\"\"\n",
    "SELECT Severity, ROUND(AVG(Duration_Minutes), 2) AS Average_Duration\n",
    "FROM Accidents\n",
    "GROUP BY Severity\n",
    "ORDER BY Severity;\n",
    "\"\"\"\n",
    "\n",
    "print(pd.read_sql_query(query4, conn))"
   ]
  },
  {
   "cell_type": "code",
   "execution_count": 14,
   "id": "7e687639",
   "metadata": {},
   "outputs": [
    {
     "name": "stdout",
     "output_type": "stream",
     "text": [
      "     Weekday    count\n",
      "0     Friday  1366499\n",
      "1   Thursday  1316229\n",
      "2  Wednesday  1312389\n",
      "3    Tuesday  1290929\n",
      "4     Monday  1210921\n",
      "5   Saturday   668683\n",
      "6     Sunday   562744\n"
     ]
    }
   ],
   "source": [
    "# 5 - Accidents per each weekday\n",
    "\n",
    "query5 = \"\"\"\n",
    "SELECT Weekday, COUNT(*) AS count\n",
    "FROM accidents\n",
    "GROUP BY Weekday\n",
    "ORDER BY count DESC;\n",
    "\"\"\"\n",
    "\n",
    "print(pd.read_sql_query(query5, conn))"
   ]
  },
  {
   "cell_type": "code",
   "execution_count": 21,
   "id": "c78bb196",
   "metadata": {},
   "outputs": [
    {
     "name": "stdout",
     "output_type": "stream",
     "text": [
      "   Hour  Accident_Count\n",
      "0    00          112378\n",
      "1    01           97071\n",
      "2    02           93227\n",
      "3    03           83863\n",
      "4    04          159852\n",
      "5    05          228182\n",
      "6    06          405837\n",
      "7    07          587472\n",
      "8    08          577576\n",
      "9    09          363034\n",
      "10   10          342706\n",
      "11   11          355040\n",
      "12   12          355001\n",
      "13   13          396445\n",
      "14   14          448846\n",
      "15   15          525855\n",
      "16   16          581969\n",
      "17   17          576015\n",
      "18   18          432042\n",
      "19   19          295121\n",
      "20   20          225226\n",
      "21   21          191452\n",
      "22   22          167645\n",
      "23   23          126539\n"
     ]
    }
   ],
   "source": [
    "# 6 - Accidents by hour of day\n",
    "\n",
    "query6 = \"\"\"\n",
    "SELECT \n",
    "    strftime('%H', Start_Time) AS Hour,\n",
    "    COUNT(*) AS Accident_Count\n",
    "FROM accidents\n",
    "GROUP BY Hour\n",
    "ORDER BY Hour;\n",
    "\"\"\"\n",
    "\n",
    "print(pd.read_sql_query(query6, conn))"
   ]
  },
  {
   "cell_type": "code",
   "execution_count": 22,
   "id": "aa0218cb",
   "metadata": {},
   "outputs": [
    {
     "name": "stdout",
     "output_type": "stream",
     "text": [
      "  State  Accident_Count\n",
      "0    CA         1741433\n",
      "1    FL          880192\n",
      "2    TX          582837\n",
      "3    SC          382557\n",
      "4    NY          347960\n",
      "5    NC          338199\n",
      "6    VA          303301\n",
      "7    PA          296620\n",
      "8    MN          192084\n",
      "9    OR          179660\n"
     ]
    }
   ],
   "source": [
    "# Top 10 states with accident count\n",
    "\n",
    "query7 = \"\"\"\n",
    "SELECT\n",
    "    State,\n",
    "    COUNT(*) AS Accident_Count\n",
    "FROM accidents\n",
    "GROUP BY State\n",
    "ORDER BY Accident_Count DESC\n",
    "LIMIT 10;\n",
    "\"\"\"\n",
    "\n",
    "print(pd.read_sql_query(query7, conn))"
   ]
  },
  {
   "cell_type": "code",
   "execution_count": 23,
   "id": "fcc086ae",
   "metadata": {},
   "outputs": [
    {
     "name": "stdout",
     "output_type": "stream",
     "text": [
      "  Weather_Condition  Avg_Severity  Record_Count\n",
      "0      Thunderstorm          2.41          4438\n",
      "1      Blowing Snow          2.29           740\n",
      "2              Rain          2.26         84331\n",
      "3        Heavy Rain          2.26         32309\n",
      "4              Snow          2.25         15537\n",
      "5               Fog          2.15         99238\n"
     ]
    }
   ],
   "source": [
    "# Weather conditions and severity\n",
    "\n",
    "query8 = \"\"\"\n",
    "SELECT \n",
    "    Weather_Condition,\n",
    "    ROUND(AVG(Severity), 2) AS Avg_Severity,\n",
    "    COUNT(*) AS Record_Count\n",
    "FROM accidents\n",
    "WHERE Weather_Condition IN ('Fog', 'Heavy Rain', 'Snow', 'Thunderstorm', 'Rain', 'Ice', 'Blowing Snow')\n",
    "GROUP BY Weather_Condition\n",
    "ORDER BY Avg_Severity DESC;\n",
    "\"\"\"\n",
    "\n",
    "print(pd.read_sql_query(query8, conn))"
   ]
  },
  {
   "cell_type": "code",
   "execution_count": null,
   "id": "eecd01d1",
   "metadata": {},
   "outputs": [],
   "source": []
  },
  {
   "cell_type": "code",
   "execution_count": 15,
   "id": "83849925",
   "metadata": {},
   "outputs": [
    {
     "name": "stdout",
     "output_type": "stream",
     "text": [
      "Disconnected from database successfully\n"
     ]
    }
   ],
   "source": [
    "# Close database connection\n",
    "conn.close()\n",
    "print(\"Disconnected from database successfully\")"
   ]
  }
 ],
 "metadata": {
  "kernelspec": {
   "display_name": "base",
   "language": "python",
   "name": "python3"
  },
  "language_info": {
   "codemirror_mode": {
    "name": "ipython",
    "version": 3
   },
   "file_extension": ".py",
   "mimetype": "text/x-python",
   "name": "python",
   "nbconvert_exporter": "python",
   "pygments_lexer": "ipython3",
   "version": "3.12.4"
  }
 },
 "nbformat": 4,
 "nbformat_minor": 5
}
